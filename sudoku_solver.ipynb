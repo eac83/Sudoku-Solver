{
 "cells": [
  {
   "cell_type": "markdown",
   "metadata": {},
   "source": [
    "<h1>Sudoku Solver</h1>\n",
    "This notebook contains code for solving a sudoku puzzle."
   ]
  },
  {
   "cell_type": "code",
   "execution_count": 9,
   "metadata": {},
   "outputs": [],
   "source": [
    "#imports\n",
    "import copy\n",
    "import os\n",
    "import numpy as np\n",
    "import pandas as pd\n",
    "from pathlib import Path\n",
    "from termcolor import colored\n",
    "from board import Board"
   ]
  },
  {
   "cell_type": "markdown",
   "metadata": {},
   "source": [
    "<h2>Load data</h2>"
   ]
  },
  {
   "cell_type": "code",
   "execution_count": 6,
   "metadata": {},
   "outputs": [
    {
     "name": "stdout",
     "output_type": "stream",
     "text": [
      "     0    1    2    3    4    5    6    7    8\n",
      "0  8.0  NaN  NaN  NaN  NaN  6.0  3.0  1.0  NaN\n",
      "1  NaN  5.0  NaN  7.0  NaN  NaN  NaN  NaN  NaN\n",
      "2  NaN  NaN  NaN  4.0  NaN  8.0  NaN  9.0  7.0\n",
      "3  5.0  1.0  8.0  2.0  3.0  NaN  NaN  7.0  6.0\n",
      "4  NaN  4.0  NaN  1.0  9.0  NaN  NaN  NaN  NaN\n",
      "5  9.0  NaN  7.0  8.0  6.0  NaN  1.0  2.0  4.0\n",
      "6  7.0  NaN  3.0  6.0  NaN  NaN  NaN  NaN  NaN\n",
      "7  NaN  6.0  5.0  NaN  NaN  NaN  7.0  4.0  NaN\n",
      "8  NaN  NaN  NaN  NaN  NaN  1.0  NaN  NaN  3.0\n"
     ]
    }
   ],
   "source": [
    "board = pd.read_csv('board.csv', header=None)\n",
    "print(board)\n",
    "initial_board = Board(board)\n",
    "current_board = copy.deepcopy(initial_board)"
   ]
  },
  {
   "cell_type": "markdown",
   "metadata": {},
   "source": [
    "<h2>Complete the board<h2>"
   ]
  },
  {
   "cell_type": "code",
   "execution_count": 7,
   "metadata": {},
   "outputs": [
    {
     "name": "stdout",
     "output_type": "stream",
     "text": [
      "Pass 1\n",
      "Filling in cells with only one possibility.\n",
      "8.0 nan nan | nan nan 6.0 | 3.0 1.0 nan | \n",
      "nan 5.0 nan | 7.0 nan nan | nan nan nan | \n",
      "nan nan nan | 4.0 nan 8.0 | nan 9.0 7.0 | \n",
      "----------------------------------------\n",
      "5.0 1.0 8.0 | 2.0 3.0 \u001b[31m4.0\u001b[0m | \u001b[31m9.0\u001b[0m 7.0 6.0 | \n",
      "nan 4.0 nan | 1.0 9.0 nan | nan nan nan | \n",
      "9.0 \u001b[31m3.0\u001b[0m 7.0 | 8.0 6.0 \u001b[31m5.0\u001b[0m | 1.0 2.0 4.0 | \n",
      "----------------------------------------\n",
      "7.0 nan 3.0 | 6.0 nan nan | nan nan nan | \n",
      "nan 6.0 5.0 | nan nan nan | 7.0 4.0 nan | \n",
      "nan nan nan | nan nan 1.0 | nan nan 3.0 | \n",
      "----------------------------------------\n",
      "\n",
      "Pass 2\n",
      "Filling in cells with only one possibility.\n",
      "8.0 nan nan | nan nan 6.0 | 3.0 1.0 nan | \n",
      "nan 5.0 nan | 7.0 nan nan | nan nan nan | \n",
      "nan \u001b[31m2.0\u001b[0m nan | 4.0 nan 8.0 | nan 9.0 7.0 | \n",
      "----------------------------------------\n",
      "5.0 1.0 8.0 | 2.0 3.0 \u001b[34m4.0\u001b[0m | \u001b[34m9.0\u001b[0m 7.0 6.0 | \n",
      "nan 4.0 nan | 1.0 9.0 \u001b[31m7.0\u001b[0m | nan nan nan | \n",
      "9.0 \u001b[34m3.0\u001b[0m 7.0 | 8.0 6.0 \u001b[34m5.0\u001b[0m | 1.0 2.0 4.0 | \n",
      "----------------------------------------\n",
      "7.0 nan 3.0 | 6.0 nan nan | nan nan nan | \n",
      "nan 6.0 5.0 | nan nan nan | 7.0 4.0 nan | \n",
      "nan nan nan | nan nan 1.0 | nan nan 3.0 | \n",
      "----------------------------------------\n",
      "\n",
      "Pass 3\n",
      "Filling in cells with only one possibility.\n",
      "8.0 nan nan | nan nan 6.0 | 3.0 1.0 nan | \n",
      "nan 5.0 nan | 7.0 nan nan | nan nan nan | \n",
      "nan \u001b[34m2.0\u001b[0m nan | 4.0 nan 8.0 | nan 9.0 7.0 | \n",
      "----------------------------------------\n",
      "5.0 1.0 8.0 | 2.0 3.0 \u001b[34m4.0\u001b[0m | \u001b[34m9.0\u001b[0m 7.0 6.0 | \n",
      "nan 4.0 nan | 1.0 9.0 \u001b[34m7.0\u001b[0m | nan nan nan | \n",
      "9.0 \u001b[34m3.0\u001b[0m 7.0 | 8.0 6.0 \u001b[34m5.0\u001b[0m | 1.0 2.0 4.0 | \n",
      "----------------------------------------\n",
      "7.0 nan 3.0 | 6.0 nan nan | nan nan nan | \n",
      "nan 6.0 5.0 | nan nan nan | 7.0 4.0 nan | \n",
      "nan nan nan | nan nan 1.0 | nan nan 3.0 | \n",
      "----------------------------------------\n",
      "\n",
      "Filling in cells with unique possibilities.\n",
      "8.0 \u001b[31m7.0\u001b[0m \u001b[31m4.0\u001b[0m | \u001b[31m9.0\u001b[0m nan 6.0 | 3.0 1.0 nan | \n",
      "nan 5.0 \u001b[31m9.0\u001b[0m | 7.0 nan \u001b[31m3.0\u001b[0m | \u001b[31m4.0\u001b[0m nan nan | \n",
      "\u001b[31m3.0\u001b[0m \u001b[34m2.0\u001b[0m \u001b[31m1.0\u001b[0m | 4.0 nan 8.0 | \u001b[31m6.0\u001b[0m 9.0 7.0 | \n",
      "----------------------------------------\n",
      "5.0 1.0 8.0 | 2.0 3.0 \u001b[34m4.0\u001b[0m | \u001b[34m9.0\u001b[0m 7.0 6.0 | \n",
      "nan 4.0 \u001b[31m6.0\u001b[0m | 1.0 9.0 \u001b[34m7.0\u001b[0m | nan \u001b[31m3.0\u001b[0m nan | \n",
      "9.0 \u001b[34m3.0\u001b[0m 7.0 | 8.0 6.0 \u001b[34m5.0\u001b[0m | 1.0 2.0 4.0 | \n",
      "----------------------------------------\n",
      "7.0 nan 3.0 | 6.0 \u001b[31m4.0\u001b[0m nan | nan nan \u001b[31m1.0\u001b[0m | \n",
      "\u001b[31m1.0\u001b[0m 6.0 5.0 | \u001b[31m3.0\u001b[0m nan nan | 7.0 4.0 \u001b[31m9.0\u001b[0m | \n",
      "\u001b[31m4.0\u001b[0m \u001b[31m9.0\u001b[0m \u001b[31m2.0\u001b[0m | \u001b[31m5.0\u001b[0m \u001b[31m7.0\u001b[0m 1.0 | nan \u001b[31m6.0\u001b[0m 3.0 | \n",
      "----------------------------------------\n",
      "\n",
      "Pass 4\n",
      "Filling in cells with only one possibility.\n",
      "8.0 \u001b[34m7.0\u001b[0m \u001b[34m4.0\u001b[0m | \u001b[34m9.0\u001b[0m nan 6.0 | 3.0 1.0 nan | \n",
      "\u001b[31m6.0\u001b[0m 5.0 \u001b[34m9.0\u001b[0m | 7.0 nan \u001b[34m3.0\u001b[0m | \u001b[34m4.0\u001b[0m \u001b[31m8.0\u001b[0m \u001b[31m2.0\u001b[0m | \n",
      "\u001b[34m3.0\u001b[0m \u001b[34m2.0\u001b[0m \u001b[34m1.0\u001b[0m | 4.0 \u001b[31m5.0\u001b[0m 8.0 | \u001b[34m6.0\u001b[0m 9.0 7.0 | \n",
      "----------------------------------------\n",
      "5.0 1.0 8.0 | 2.0 3.0 \u001b[34m4.0\u001b[0m | \u001b[34m9.0\u001b[0m 7.0 6.0 | \n",
      "\u001b[31m2.0\u001b[0m 4.0 \u001b[34m6.0\u001b[0m | 1.0 9.0 \u001b[34m7.0\u001b[0m | nan \u001b[34m3.0\u001b[0m nan | \n",
      "9.0 \u001b[34m3.0\u001b[0m 7.0 | 8.0 6.0 \u001b[34m5.0\u001b[0m | 1.0 2.0 4.0 | \n",
      "----------------------------------------\n",
      "7.0 \u001b[31m8.0\u001b[0m 3.0 | 6.0 \u001b[34m4.0\u001b[0m nan | nan \u001b[31m5.0\u001b[0m \u001b[34m1.0\u001b[0m | \n",
      "\u001b[34m1.0\u001b[0m 6.0 5.0 | \u001b[34m3.0\u001b[0m nan \u001b[31m2.0\u001b[0m | 7.0 4.0 \u001b[34m9.0\u001b[0m | \n",
      "\u001b[34m4.0\u001b[0m \u001b[34m9.0\u001b[0m \u001b[34m2.0\u001b[0m | \u001b[34m5.0\u001b[0m \u001b[34m7.0\u001b[0m 1.0 | \u001b[31m8.0\u001b[0m \u001b[34m6.0\u001b[0m 3.0 | \n",
      "----------------------------------------\n",
      "\n",
      "Pass 5\n",
      "Filling in cells with only one possibility.\n",
      "8.0 \u001b[34m7.0\u001b[0m \u001b[34m4.0\u001b[0m | \u001b[34m9.0\u001b[0m \u001b[31m2.0\u001b[0m 6.0 | 3.0 1.0 \u001b[31m5.0\u001b[0m | \n",
      "\u001b[34m6.0\u001b[0m 5.0 \u001b[34m9.0\u001b[0m | 7.0 \u001b[31m1.0\u001b[0m \u001b[34m3.0\u001b[0m | \u001b[34m4.0\u001b[0m \u001b[34m8.0\u001b[0m \u001b[34m2.0\u001b[0m | \n",
      "\u001b[34m3.0\u001b[0m \u001b[34m2.0\u001b[0m \u001b[34m1.0\u001b[0m | 4.0 \u001b[34m5.0\u001b[0m 8.0 | \u001b[34m6.0\u001b[0m 9.0 7.0 | \n",
      "----------------------------------------\n",
      "5.0 1.0 8.0 | 2.0 3.0 \u001b[34m4.0\u001b[0m | \u001b[34m9.0\u001b[0m 7.0 6.0 | \n",
      "\u001b[34m2.0\u001b[0m 4.0 \u001b[34m6.0\u001b[0m | 1.0 9.0 \u001b[34m7.0\u001b[0m | \u001b[31m5.0\u001b[0m \u001b[34m3.0\u001b[0m \u001b[31m8.0\u001b[0m | \n",
      "9.0 \u001b[34m3.0\u001b[0m 7.0 | 8.0 6.0 \u001b[34m5.0\u001b[0m | 1.0 2.0 4.0 | \n",
      "----------------------------------------\n",
      "7.0 \u001b[34m8.0\u001b[0m 3.0 | 6.0 \u001b[34m4.0\u001b[0m \u001b[31m9.0\u001b[0m | \u001b[31m2.0\u001b[0m \u001b[34m5.0\u001b[0m \u001b[34m1.0\u001b[0m | \n",
      "\u001b[34m1.0\u001b[0m 6.0 5.0 | \u001b[34m3.0\u001b[0m \u001b[31m8.0\u001b[0m \u001b[34m2.0\u001b[0m | 7.0 4.0 \u001b[34m9.0\u001b[0m | \n",
      "\u001b[34m4.0\u001b[0m \u001b[34m9.0\u001b[0m \u001b[34m2.0\u001b[0m | \u001b[34m5.0\u001b[0m \u001b[34m7.0\u001b[0m 1.0 | \u001b[34m8.0\u001b[0m \u001b[34m6.0\u001b[0m 3.0 | \n",
      "----------------------------------------\n",
      "\n"
     ]
    }
   ],
   "source": [
    "passes = 0\n",
    "while np.isnan(current_board.board).any():\n",
    "    passes += 1\n",
    "    last_board = copy.deepcopy(current_board)\n",
    "\n",
    "    print(f'Pass {passes}')\n",
    "    print('Filling in cells with only one possibility.')\n",
    "    current_board.board, current_board.possibilities = current_board.complete()\n",
    "    for i in range(0, current_board.size):\n",
    "        for j in range(0, current_board.size):\n",
    "            if (j+1) % 3 == 0:\n",
    "                end = ' | '\n",
    "            else:\n",
    "                end = ' '\n",
    "            if current_board.board[i, j] == initial_board.board[i, j] or np.isnan(current_board.board[i, j]):\n",
    "                print(current_board.board[i, j], end=end)\n",
    "            elif current_board.board[i, j] == last_board.board[i, j]:\n",
    "                print(colored(current_board.board[i, j], 'blue'), end=end)\n",
    "            else:\n",
    "                print(colored(current_board.board[i, j], 'red'), end=end)\n",
    "        print()\n",
    "        if (i+1) % 3 == 0:\n",
    "            print('-'*40)\n",
    "    print()\n",
    "\n",
    "    if np.array_equal(current_board.board, last_board.board, equal_nan=True):\n",
    "        print('Filling in cells with unique possibilities.')\n",
    "        current_board.board = current_board.compare()\n",
    "        for i in range(0, current_board.size):\n",
    "            for j in range(0, current_board.size):\n",
    "                if (j+1) % 3 == 0:\n",
    "                    end = ' | '\n",
    "                else:\n",
    "                    end = ' '\n",
    "                if current_board.board[i, j] == initial_board.board[i, j] or np.isnan(current_board.board[i, j]):\n",
    "                    print(current_board.board[i, j], end=end)\n",
    "                elif current_board.board[i, j] == last_board.board[i, j]:\n",
    "                    print(colored(current_board.board[i, j], 'blue'), end=end)\n",
    "                else:\n",
    "                    print(colored(current_board.board[i, j], 'red'), end=end)\n",
    "            print()\n",
    "            if (i+1) % 3 == 0:\n",
    "                print('-'*40)\n",
    "        print()\n",
    "        \n",
    "        if np.array_equal(current_board.board, last_board.board, equal_nan=True):\n",
    "            raise Exception('Error! No progress being made!')\n",
    "            "
   ]
  },
  {
   "cell_type": "markdown",
   "metadata": {},
   "source": [
    "<h2>Save completed board</h2>"
   ]
  },
  {
   "cell_type": "code",
   "execution_count": 17,
   "metadata": {},
   "outputs": [],
   "source": [
    "with open(Path(os.getcwd())/'board_final.csv', 'w') as f:\n",
    "    np.savetxt(f, current_board.board, delimiter=',')"
   ]
  },
  {
   "cell_type": "code",
   "execution_count": null,
   "metadata": {},
   "outputs": [],
   "source": []
  }
 ],
 "metadata": {
  "kernelspec": {
   "display_name": "venv",
   "language": "python",
   "name": "python3"
  },
  "language_info": {
   "codemirror_mode": {
    "name": "ipython",
    "version": 3
   },
   "file_extension": ".py",
   "mimetype": "text/x-python",
   "name": "python",
   "nbconvert_exporter": "python",
   "pygments_lexer": "ipython3",
   "version": "3.11.4"
  },
  "orig_nbformat": 4
 },
 "nbformat": 4,
 "nbformat_minor": 2
}
