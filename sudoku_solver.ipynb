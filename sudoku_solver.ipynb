{
 "cells": [
  {
   "cell_type": "markdown",
   "metadata": {},
   "source": [
    "<h1>Sudoku Solver</h1>\n",
    "This notebook contains code for solving a sudoku puzzle."
   ]
  },
  {
   "cell_type": "code",
   "execution_count": 14,
   "metadata": {},
   "outputs": [],
   "source": [
    "#imports\n",
    "import numpy as np\n",
    "import pandas as pd"
   ]
  },
  {
   "cell_type": "markdown",
   "metadata": {},
   "source": [
    "<h2>Functions</h2>"
   ]
  },
  {
   "cell_type": "code",
   "execution_count": 44,
   "metadata": {},
   "outputs": [],
   "source": [
    "def complete_board(current_board):\n",
    "    \"\"\"Takes in \"\"\"\n",
    "    board_size = np.shape(current_board)[0]\n",
    "    full_set = set(range(1, board_size+1))\n",
    "    square_size = np.sqrt(board_size)\n",
    "    possiblities = [[np.nan]*board_size]*board_size\n",
    "    print(len(possiblities))\n",
    "    for i in range(0, board_size):\n",
    "        for j in range(0, board_size):\n",
    "            if np.isnan(current_board[i, j]) == True:\n",
    "                row = {current_board[i, x] for x, cell_x in enumerate(current_board[i, :]) if np.isnan(cell_x) == False}\n",
    "                #print(f'Row {i+1}: {row}')\n",
    "                column = {current_board[y, j] for y, cell_y in enumerate(current_board[:, j]) if np.isnan(cell_y) == False}\n",
    "                #print(f'Column {j+1}: {column}')\n",
    "                square = set()\n",
    "                for a in range(int(square_size*np.floor(i/square_size)), int(square_size*np.floor(i/square_size)+square_size)):\n",
    "                    for b in range(int(square_size*np.floor(j/square_size)), int(square_size*np.floor(j/square_size)+square_size)):\n",
    "                        if np.isnan(current_board[a, b]) == False:\n",
    "                            square.add(current_board[a, b])\n",
    "                #print(f'Square: {square}')\n",
    "                possible = full_set - row.union(column.union(square))\n",
    "                print(f'({i}, {j}): possiblities: {possible}')\n",
    "                if len(possible) == 0:\n",
    "                    print(f'Error! Cell ({i}, {j}) has no possible values!')\n",
    "                elif len(possible) == 1:\n",
    "                    current_board[i, j] = list(possible)[0]\n",
    "                else:\n",
    "                    possiblities[i][j] = possible\n",
    "\n",
    "\n",
    "    for i in range(0, board_size):\n",
    "        for j in range(0, board_size):\n",
    "            if np.isnan(current_board[i, j]) == True:\n",
    "                \n",
    "    return current_board"
   ]
  },
  {
   "cell_type": "code",
   "execution_count": 40,
   "metadata": {},
   "outputs": [
    {
     "name": "stdout",
     "output_type": "stream",
     "text": [
      "     0    1    2    3    4    5    6    7    8\n",
      "0  NaN  1.0  NaN  NaN  NaN  NaN  NaN  8.0  NaN\n",
      "1  NaN  NaN  NaN  9.0  NaN  6.0  5.0  NaN  7.0\n",
      "2  NaN  NaN  9.0  NaN  7.0  8.0  NaN  NaN  NaN\n",
      "3  NaN  3.0  5.0  NaN  NaN  NaN  2.0  7.0  NaN\n",
      "4  NaN  NaN  7.0  6.0  NaN  NaN  NaN  NaN  NaN\n",
      "5  NaN  9.0  NaN  NaN  3.0  NaN  1.0  NaN  8.0\n",
      "6  2.0  NaN  1.0  5.0  NaN  NaN  NaN  NaN  NaN\n",
      "7  9.0  NaN  3.0  NaN  2.0  7.0  4.0  5.0  1.0\n",
      "8  8.0  NaN  4.0  1.0  6.0  3.0  7.0  9.0  NaN\n"
     ]
    }
   ],
   "source": [
    "board = pd.read_csv('board.csv', header=None)\n",
    "print(board)\n",
    "initial_board = np.array(board)\n"
   ]
  },
  {
   "cell_type": "code",
   "execution_count": 43,
   "metadata": {},
   "outputs": [
    {
     "name": "stdout",
     "output_type": "stream",
     "text": [
      "9\n",
      "(0, 0): possiblities: {3, 4, 5, 6, 7}\n"
     ]
    },
    {
     "ename": "IndexError",
     "evalue": "list assignment index out of range",
     "output_type": "error",
     "traceback": [
      "\u001b[0;31m---------------------------------------------------------------------------\u001b[0m",
      "\u001b[0;31mIndexError\u001b[0m                                Traceback (most recent call last)",
      "Cell \u001b[0;32mIn[43], line 7\u001b[0m\n\u001b[1;32m      5\u001b[0m passes \u001b[39m+\u001b[39m\u001b[39m=\u001b[39m \u001b[39m1\u001b[39m\n\u001b[1;32m      6\u001b[0m last_board \u001b[39m=\u001b[39m np\u001b[39m.\u001b[39mcopy(current_board)\n\u001b[0;32m----> 7\u001b[0m current_board \u001b[39m=\u001b[39m complete_board(current_board)\n\u001b[1;32m      8\u001b[0m \u001b[39mprint\u001b[39m(\u001b[39mf\u001b[39m\u001b[39m'\u001b[39m\u001b[39mPass \u001b[39m\u001b[39m{\u001b[39;00mpasses\u001b[39m}\u001b[39;00m\u001b[39m'\u001b[39m)\n\u001b[1;32m      9\u001b[0m \u001b[39mprint\u001b[39m(current_board)\n",
      "Cell \u001b[0;32mIn[42], line 27\u001b[0m, in \u001b[0;36mcomplete_board\u001b[0;34m(current_board)\u001b[0m\n\u001b[1;32m     25\u001b[0m                 current_board[i, j] \u001b[39m=\u001b[39m \u001b[39mlist\u001b[39m(possible)[\u001b[39m0\u001b[39m]\n\u001b[1;32m     26\u001b[0m             \u001b[39melse\u001b[39;00m:\n\u001b[0;32m---> 27\u001b[0m                 possiblities[i][j] \u001b[39m=\u001b[39m possible\n\u001b[1;32m     31\u001b[0m \u001b[39mreturn\u001b[39;00m current_board\n",
      "\u001b[0;31mIndexError\u001b[0m: list assignment index out of range"
     ]
    }
   ],
   "source": [
    "current_board = initial_board\n",
    "passes = 0\n",
    "\n",
    "while np.isnan(current_board).any():\n",
    "    passes += 1\n",
    "    last_board = np.copy(current_board)\n",
    "    current_board = complete_board(current_board)\n",
    "    print(f'Pass {passes}')\n",
    "    print(current_board)\n",
    "    if np.array_equal(current_board, last_board, equal_nan=True):\n",
    "        print('Error! No progress being made!')\n",
    "        break"
   ]
  },
  {
   "cell_type": "code",
   "execution_count": 37,
   "metadata": {},
   "outputs": [
    {
     "name": "stdout",
     "output_type": "stream",
     "text": [
      "[[nan  1. nan nan nan nan nan  8. nan]\n",
      " [nan nan nan  9. nan  6.  5. nan  7.]\n",
      " [nan nan  9. nan  7.  8. nan nan nan]\n",
      " [nan  3.  5. nan nan nan  2.  7. nan]\n",
      " [nan nan  7.  6. nan nan nan nan nan]\n",
      " [nan  9. nan nan  3. nan  1. nan  8.]\n",
      " [ 2. nan  1.  5. nan nan nan nan nan]\n",
      " [ 9. nan  3. nan  2.  7.  4.  5.  1.]\n",
      " [ 8. nan  4.  1.  6.  3.  7.  9. nan]]\n"
     ]
    }
   ],
   "source": [
    "print(initial_board)"
   ]
  },
  {
   "cell_type": "code",
   "execution_count": null,
   "metadata": {},
   "outputs": [
    {
     "name": "stdout",
     "output_type": "stream",
     "text": [
      "[[nan  1. nan nan nan nan nan  8. nan]\n",
      " [nan nan nan  9. nan  6.  5. nan  7.]\n",
      " [nan nan  9. nan  7.  8. nan nan nan]\n",
      " [nan  3.  5.  4. nan nan  2.  7. nan]\n",
      " [nan nan  7.  6. nan nan nan nan nan]\n",
      " [nan  9. nan nan  3. nan  1. nan  8.]\n",
      " [ 2.  7.  1.  5. nan nan nan nan nan]\n",
      " [ 9.  6.  3.  8.  2.  7.  4.  5.  1.]\n",
      " [ 8.  5.  4.  1.  6.  3.  7.  9.  2.]]\n"
     ]
    }
   ],
   "source": [
    "print(current_board)"
   ]
  },
  {
   "cell_type": "code",
   "execution_count": null,
   "metadata": {},
   "outputs": [
    {
     "name": "stdout",
     "output_type": "stream",
     "text": [
      "{4}\n"
     ]
    }
   ],
   "source": [
    "a = {1, 2, 4}\n",
    "b = {1, 2, 3}\n",
    "print(a-b)"
   ]
  },
  {
   "cell_type": "code",
   "execution_count": null,
   "metadata": {},
   "outputs": [
    {
     "name": "stdout",
     "output_type": "stream",
     "text": [
      "{1}\n"
     ]
    }
   ],
   "source": [
    "a = [[1,2,4],[2,3],[4,7]]\n",
    "flat_a = [x for i, sublist in enumerate(a) for x in sublist if i != 0]\n",
    "print(set(a[0])-set(flat_a))\n"
   ]
  }
 ],
 "metadata": {
  "kernelspec": {
   "display_name": "venv",
   "language": "python",
   "name": "python3"
  },
  "language_info": {
   "codemirror_mode": {
    "name": "ipython",
    "version": 3
   },
   "file_extension": ".py",
   "mimetype": "text/x-python",
   "name": "python",
   "nbconvert_exporter": "python",
   "pygments_lexer": "ipython3",
   "version": "3.11.4"
  },
  "orig_nbformat": 4
 },
 "nbformat": 4,
 "nbformat_minor": 2
}
